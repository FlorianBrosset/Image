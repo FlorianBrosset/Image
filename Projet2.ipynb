{
 "cells": [
  {
   "cell_type": "markdown",
   "id": "821d0cf8",
   "metadata": {},
   "source": [
    "We will consider from now fixed values c1 and c2 to compare the convergence speed of the contour with respect to the different approaches . For the image “eight.tif”, one can take c1 =110andc2 =227."
   ]
  },
  {
   "cell_type": "code",
   "execution_count": null,
   "id": "695a5601",
   "metadata": {},
   "outputs": [],
   "source": [
    "import numpy as np\n",
    "import matplotlib.pyplot as plt\n",
    "plt.close('all')\n",
    "import skimage as ski\n",
    "from scipy import misc \n",
    "from scipy.interpolate import RectBivariateSpline\n",
    "from PIL import Image\n",
    "import holoviews as hv\n",
    "import param\n",
    "import panel as pn\n",
    "from panel.pane import LaTeX\n",
    "hv.extension('bokeh')\n",
    "import warnings\n",
    "warnings.filterwarnings('ignore')\n",
    "import requests\n",
    "from PIL import Image\n",
    "from io import BytesIO"
   ]
  },
  {
   "cell_type": "code",
   "execution_count": null,
   "id": "99761f6b",
   "metadata": {},
   "outputs": [],
   "source": [
    "img = np.array( Image.open('coins.png') )[:,:,0] \n",
    "options = dict(cmap='gray',xaxis=None,yaxis=None,width=400,height=400,toolbar=None)"
   ]
  },
  {
   "cell_type": "code",
   "execution_count": null,
   "id": "fe40ce93",
   "metadata": {},
   "outputs": [],
   "source": [
    "hv.Image(img).opts(**options)"
   ]
  },
  {
   "cell_type": "code",
   "execution_count": null,
   "id": "d42c37a9",
   "metadata": {},
   "outputs": [],
   "source": [
    "import plotly.express as px\n",
    "fig = px.imshow(img, color_continuous_scale='gray')\n",
    "fig.show()"
   ]
  },
  {
   "cell_type": "code",
   "execution_count": null,
   "id": "07c9ab42",
   "metadata": {},
   "outputs": [],
   "source": [
    "img"
   ]
  },
  {
   "cell_type": "code",
   "execution_count": null,
   "id": "374ec0f0",
   "metadata": {},
   "outputs": [],
   "source": [
    "\"\"\"Divergences of an image\"\"\" \n",
    "#> pas le bon div ?\n",
    "def DivHor(x):\n",
    "    N=len(x[0])\n",
    "    y=x-np.roll(x,-1,axis=1)\n",
    "    y[:,0]=-x[:,1]\n",
    "    y[:,N-1]=x[:,N-1]\n",
    "    return y\n",
    "\n",
    "def DivVer(x):\n",
    "    N=len(x)\n",
    "    y=x-np.roll(x,-1,axis=0)\n",
    "    y[0,:]=-x[1,:]\n",
    "    y[N-1,:]=x[N-1,:]\n",
    "    return y\n",
    "\n",
    "def Div(y):\n",
    "    x=DivHor(y[0])+DivVer(y[1])\n",
    "    return x\n",
    "\n",
    "\"\"\"Gradients of an image\"\"\"\n",
    "\n",
    "def GradientHor(x):\n",
    "    y=x-np.roll(x,1,axis=1)\n",
    "    y[:,0]=0\n",
    "    return y\n",
    "def GradientVer(x):\n",
    "    y=x-np.roll(x,1,axis=0)\n",
    "    y[0,:]=0\n",
    "    return y\n",
    "\n",
    "def Gradient(x):\n",
    "    return np.array([GradientHor(x),GradientVer(x)])\n"
   ]
  },
  {
   "cell_type": "code",
   "execution_count": null,
   "id": "4a004bac",
   "metadata": {},
   "outputs": [],
   "source": [
    "def GradientHor(x):\n",
    "    y=x-np.roll(x,1,axis=1)\n",
    "    y[:,0]=0\n",
    "    return y\n",
    "def GradientVer(x):\n",
    "    y=x-np.roll(x,1,axis=0)\n",
    "    y[0,:]=0\n",
    "    return y\n",
    "def DivHor(x):\n",
    "    N=len(x[0])\n",
    "    y=x-np.roll(x,-1,axis=1)\n",
    "    y[:,0]=-x[:,1]\n",
    "    y[:,N-1]=x[:,N-1]\n",
    "    return y\n",
    "def DivVer(x):\n",
    "    N=len(x)\n",
    "    y=x-np.roll(x,-1,axis=0)\n",
    "    y[0,:]=-x[1,:]\n",
    "    y[N-1,:]=x[N-1,:]\n",
    "    return y\n",
    "def Gradient(x):\n",
    "    y=[]\n",
    "    y.append(GradientHor(x))\n",
    "    y.append(GradientVer(x))\n",
    "    return y\n",
    "def Div(y):\n",
    "    x=DivHor(y[0])+DivVer(y[1])\n",
    "    return x"
   ]
  },
  {
   "cell_type": "code",
   "execution_count": null,
   "id": "c83b39d9",
   "metadata": {},
   "outputs": [],
   "source": [
    "def PA(u):\n",
    "    return np.clip(u,0,1)\n",
    "def normE(grad,E):\n",
    "    return np.sqrt(grad[0]**2+grad[1]**2+E**2)"
   ]
  },
  {
   "cell_type": "code",
   "execution_count": null,
   "id": "7a607bed",
   "metadata": {},
   "outputs": [],
   "source": [
    "np.shape(img)"
   ]
  },
  {
   "cell_type": "code",
   "execution_count": null,
   "id": "4351313d",
   "metadata": {},
   "outputs": [],
   "source": [
    "EArray = np.array([1])\n",
    "muArray = np.array([.5])\n",
    "lamArray =np.array([0.016,0.017,0.018,0.019,0.02])"
   ]
  },
  {
   "cell_type": "code",
   "execution_count": null,
   "id": "05280f75",
   "metadata": {},
   "outputs": [],
   "source": [
    "from bokeh.plotting import show"
   ]
  },
  {
   "cell_type": "code",
   "execution_count": null,
   "id": "685a319f",
   "metadata": {
    "scrolled": false
   },
   "outputs": [],
   "source": [
    "UK =[]\n",
    "for mu in muArray:\n",
    "    for lam in lamArray:\n",
    "        print(mu,lam)\n",
    "        #gradient projeté\n",
    "        tau = 0.1\n",
    "        E= 1\n",
    "        I =img\n",
    "        c1 = 110 \n",
    "        c2 =227 #à changer\n",
    "        th=100\n",
    "        N=200\n",
    "\n",
    "        u0 = np.ones((658,843))\n",
    "\n",
    "        uktmp =np.ones((658,843))\n",
    "        uk = u0\n",
    "\n",
    "        # for i in range (N):\n",
    "        \n",
    "        Delta =th+1\n",
    "        iterN=0\n",
    "        while(Delta>th):\n",
    "            grad = Gradient(uk)\n",
    "            #gradient projeté\n",
    "            ukp1 = PA(uk + tau*(Div(grad/(normE(grad,E))) - lam*(I-c1)**2 - lam*(I-c2)**2))\n",
    "            #Affichage u1\n",
    "            if (iterN==0):\n",
    "                fig = px.imshow(ukp1, color_continuous_scale='gray')\n",
    "                fig.show()\n",
    "            #Calcul pour CV\n",
    "            Delta =np.linalg.norm(ukp1-uk)\n",
    "            uk=ukp1\n",
    "            iterN+=1\n",
    "        #Affichage uK qui a CV\n",
    "        fig = px.imshow(uk, color_continuous_scale='gray')\n",
    "        fig.show()\n",
    "        #Affichage \n",
    "        uk[uk<mu]=0\n",
    "        uk[uk>mu]=255\n",
    "        fig = px.imshow(uk, color_continuous_scale='gray')\n",
    "        fig.show()\n",
    "        UK += [uk]"
   ]
  },
  {
   "cell_type": "code",
   "execution_count": null,
   "id": "82660d67",
   "metadata": {},
   "outputs": [],
   "source": [
    "uk[uk<mu]=0\n",
    "uk[uk>mu]=255"
   ]
  },
  {
   "cell_type": "code",
   "execution_count": null,
   "id": "be7bbc86",
   "metadata": {},
   "outputs": [],
   "source": [
    "uk"
   ]
  },
  {
   "cell_type": "code",
   "execution_count": null,
   "id": "5b6d0574",
   "metadata": {},
   "outputs": [],
   "source": []
  },
  {
   "cell_type": "code",
   "execution_count": null,
   "id": "f52b3e8f",
   "metadata": {},
   "outputs": [],
   "source": [
    "Itmp = I/255\n",
    "Itmp[Itmp<mu]=0\n",
    "Itmp[Itmp>mu]=255\n",
    "\n"
   ]
  },
  {
   "cell_type": "code",
   "execution_count": null,
   "id": "e329b52f",
   "metadata": {},
   "outputs": [],
   "source": [
    "hv.Image(Itmp).opts(**options)"
   ]
  },
  {
   "cell_type": "markdown",
   "id": "a13800b8",
   "metadata": {},
   "source": [
    "Implement algorithm (3.7) and test it with the time step τ ≈ 0.1. The threshold μ = 0.5 can be considered to define the binary region of interest: ub(x) = 1 if u(x) > 0.5 and 0 otherwise."
   ]
  },
  {
   "cell_type": "markdown",
   "id": "edbded36",
   "metadata": {},
   "source": [
    "Is the result sensible to the initialization of u0?"
   ]
  },
  {
   "cell_type": "markdown",
   "id": "2469417b",
   "metadata": {},
   "source": [
    "Implement a function compute_energy_smooth that takes a binary map u, (I − c1)2, (I − c2 )2 , λ and ε as arguments and returns the value of functional (3.6). As c1 and c2 are now fixed, the matrix (I − c1)2 and (I − c2)2 can be precomputed to save computational time. Look at the evolution of the functional value along iterations k for the Chan-Vese model and the Chan-Esedoglu-Nikolova one. For the Chan and Vese model, one should take as input argument u = H(φ)."
   ]
  },
  {
   "cell_type": "code",
   "execution_count": null,
   "id": "e567423f",
   "metadata": {},
   "outputs": [],
   "source": []
  }
 ],
 "metadata": {
  "kernelspec": {
   "display_name": "Python 3 (ipykernel)",
   "language": "python",
   "name": "python3"
  },
  "language_info": {
   "codemirror_mode": {
    "name": "ipython",
    "version": 3
   },
   "file_extension": ".py",
   "mimetype": "text/x-python",
   "name": "python",
   "nbconvert_exporter": "python",
   "pygments_lexer": "ipython3",
   "version": "3.9.12"
  },
  "toc": {
   "base_numbering": 1,
   "nav_menu": {},
   "number_sections": true,
   "sideBar": true,
   "skip_h1_title": true,
   "title_cell": "Table of Contents",
   "title_sidebar": "Contents",
   "toc_cell": false,
   "toc_position": {},
   "toc_section_display": true,
   "toc_window_display": false
  }
 },
 "nbformat": 4,
 "nbformat_minor": 5
}
